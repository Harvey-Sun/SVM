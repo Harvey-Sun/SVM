{
 "cells": [
  {
   "cell_type": "code",
   "execution_count": 2,
   "metadata": {
    "collapsed": true
   },
   "outputs": [],
   "source": [
    "import talib\n",
    "import pandas as pd\n",
    "import os\n",
    "% matplotlib inline"
   ]
  },
  {
   "cell_type": "code",
   "execution_count": null,
   "metadata": {
    "collapsed": true
   },
   "outputs": [],
   "source": []
  },
  {
   "cell_type": "code",
   "execution_count": 7,
   "metadata": {
    "collapsed": false
   },
   "outputs": [],
   "source": [
    "def import_data(file):\n",
    "    data = pd.read_csv(file, index_col=0, squeeze=True)\n",
    "    data.index = pd.to_datetime(data.index)\n",
    "    return data"
   ]
  },
  {
   "cell_type": "code",
   "execution_count": 8,
   "metadata": {
    "collapsed": true
   },
   "outputs": [],
   "source": [
    "IF = import_data('IF.CFE.csv')"
   ]
  },
  {
   "cell_type": "code",
   "execution_count": 21,
   "metadata": {
    "collapsed": false
   },
   "outputs": [
    {
     "data": {
      "text/html": [
       "<div>\n",
       "<table border=\"1\" class=\"dataframe\">\n",
       "  <thead>\n",
       "    <tr style=\"text-align: right;\">\n",
       "      <th></th>\n",
       "      <th>open</th>\n",
       "      <th>high</th>\n",
       "      <th>low</th>\n",
       "      <th>close</th>\n",
       "      <th>jiesuan</th>\n",
       "      <th>value</th>\n",
       "      <th>volume</th>\n",
       "      <th>hold</th>\n",
       "    </tr>\n",
       "    <tr>\n",
       "      <th>date</th>\n",
       "      <th></th>\n",
       "      <th></th>\n",
       "      <th></th>\n",
       "      <th></th>\n",
       "      <th></th>\n",
       "      <th></th>\n",
       "      <th></th>\n",
       "      <th></th>\n",
       "    </tr>\n",
       "  </thead>\n",
       "  <tbody>\n",
       "    <tr>\n",
       "      <th>2010-04-16</th>\n",
       "      <td>3450.0</td>\n",
       "      <td>3488.0</td>\n",
       "      <td>3413.2</td>\n",
       "      <td>3415.6</td>\n",
       "      <td>3431.2</td>\n",
       "      <td>50538.81</td>\n",
       "      <td>48988</td>\n",
       "      <td>2702</td>\n",
       "    </tr>\n",
       "    <tr>\n",
       "      <th>2010-04-19</th>\n",
       "      <td>3396.0</td>\n",
       "      <td>3398.0</td>\n",
       "      <td>3166.2</td>\n",
       "      <td>3197.4</td>\n",
       "      <td>3201.2</td>\n",
       "      <td>108206.41</td>\n",
       "      <td>109733</td>\n",
       "      <td>3954</td>\n",
       "    </tr>\n",
       "    <tr>\n",
       "      <th>2010-04-20</th>\n",
       "      <td>3209.2</td>\n",
       "      <td>3240.0</td>\n",
       "      <td>3168.8</td>\n",
       "      <td>3214.6</td>\n",
       "      <td>3216.6</td>\n",
       "      <td>136342.09</td>\n",
       "      <td>141862</td>\n",
       "      <td>4496</td>\n",
       "    </tr>\n",
       "    <tr>\n",
       "      <th>2010-04-21</th>\n",
       "      <td>3215.0</td>\n",
       "      <td>3281.2</td>\n",
       "      <td>3208.0</td>\n",
       "      <td>3267.2</td>\n",
       "      <td>3266.0</td>\n",
       "      <td>111267.89</td>\n",
       "      <td>114531</td>\n",
       "      <td>5062</td>\n",
       "    </tr>\n",
       "    <tr>\n",
       "      <th>2010-04-22</th>\n",
       "      <td>3260.2</td>\n",
       "      <td>3274.4</td>\n",
       "      <td>3211.0</td>\n",
       "      <td>3236.2</td>\n",
       "      <td>3240.0</td>\n",
       "      <td>129629.81</td>\n",
       "      <td>133247</td>\n",
       "      <td>5383</td>\n",
       "    </tr>\n",
       "  </tbody>\n",
       "</table>\n",
       "</div>"
      ],
      "text/plain": [
       "              open    high     low   close  jiesuan      value  volume  hold\n",
       "date                                                                        \n",
       "2010-04-16  3450.0  3488.0  3413.2  3415.6   3431.2   50538.81   48988  2702\n",
       "2010-04-19  3396.0  3398.0  3166.2  3197.4   3201.2  108206.41  109733  3954\n",
       "2010-04-20  3209.2  3240.0  3168.8  3214.6   3216.6  136342.09  141862  4496\n",
       "2010-04-21  3215.0  3281.2  3208.0  3267.2   3266.0  111267.89  114531  5062\n",
       "2010-04-22  3260.2  3274.4  3211.0  3236.2   3240.0  129629.81  133247  5383"
      ]
     },
     "execution_count": 21,
     "metadata": {},
     "output_type": "execute_result"
    }
   ],
   "source": [
    "IF.head()"
   ]
  },
  {
   "cell_type": "code",
   "execution_count": 9,
   "metadata": {
    "collapsed": true
   },
   "outputs": [],
   "source": [
    "HS300 = import_data('HS300.csv')"
   ]
  },
  {
   "cell_type": "code",
   "execution_count": 20,
   "metadata": {
    "collapsed": false
   },
   "outputs": [
    {
     "data": {
      "text/plain": [
       "<matplotlib.axes._subplots.AxesSubplot at 0x218dc4fe668>"
      ]
     },
     "execution_count": 20,
     "metadata": {},
     "output_type": "execute_result"
    },
    {
     "data": {
      "image/png": "[encoded data removed]",
      "text/plain": [
       "<matplotlib.figure.Figure at 0x218dc4ec6a0>"
      ]
     },
     "metadata": {},
     "output_type": "display_data"
    }
   ],
   "source": [
    "HS300['close'].plot(figsize=(20,10), legend=True)\n",
    "IF['close'].plot(figsize=(20,10), legend=True)"
   ]
  },
  {
   "cell_type": "code",
   "execution_count": null,
   "metadata": {
    "collapsed": true
   },
   "outputs": [],
   "source": []
  },
  {
   "cell_type": "code",
   "execution_count": null,
   "metadata": {
    "collapsed": true
   },
   "outputs": [],
   "source": []
  },
  {
   "cell_type": "code",
   "execution_count": 2,
   "metadata": {
    "collapsed": false
   },
   "outputs": [
    {
     "data": {
      "text/plain": [
       "['ACOS',\n",
       " 'AD',\n",
       " 'ADD',\n",
       " 'ADOSC',\n",
       " 'ADX',\n",
       " 'ADXR',\n",
       " 'APO',\n",
       " 'AROON',\n",
       " 'AROONOSC',\n",
       " 'ASIN',\n",
       " 'ATAN',\n",
       " 'ATR',\n",
       " 'AVGPRICE',\n",
       " 'BBANDS',\n",
       " 'BETA',\n",
       " 'BOP',\n",
       " 'CCI',\n",
       " 'CDL2CROWS',\n",
       " 'CDL3BLACKCROWS',\n",
       " 'CDL3INSIDE',\n",
       " 'CDL3LINESTRIKE',\n",
       " 'CDL3OUTSIDE',\n",
       " 'CDL3STARSINSOUTH',\n",
       " 'CDL3WHITESOLDIERS',\n",
       " 'CDLABANDONEDBABY',\n",
       " 'CDLADVANCEBLOCK',\n",
       " 'CDLBELTHOLD',\n",
       " 'CDLBREAKAWAY',\n",
       " 'CDLCLOSINGMARUBOZU',\n",
       " 'CDLCONCEALBABYSWALL',\n",
       " 'CDLCOUNTERATTACK',\n",
       " 'CDLDARKCLOUDCOVER',\n",
       " 'CDLDOJI',\n",
       " 'CDLDOJISTAR',\n",
       " 'CDLDRAGONFLYDOJI',\n",
       " 'CDLENGULFING',\n",
       " 'CDLEVENINGDOJISTAR',\n",
       " 'CDLEVENINGSTAR',\n",
       " 'CDLGAPSIDESIDEWHITE',\n",
       " 'CDLGRAVESTONEDOJI',\n",
       " 'CDLHAMMER',\n",
       " 'CDLHANGINGMAN',\n",
       " 'CDLHARAMI',\n",
       " 'CDLHARAMICROSS',\n",
       " 'CDLHIGHWAVE',\n",
       " 'CDLHIKKAKE',\n",
       " 'CDLHIKKAKEMOD',\n",
       " 'CDLHOMINGPIGEON',\n",
       " 'CDLIDENTICAL3CROWS',\n",
       " 'CDLINNECK',\n",
       " 'CDLINVERTEDHAMMER',\n",
       " 'CDLKICKING',\n",
       " 'CDLKICKINGBYLENGTH',\n",
       " 'CDLLADDERBOTTOM',\n",
       " 'CDLLONGLEGGEDDOJI',\n",
       " 'CDLLONGLINE',\n",
       " 'CDLMARUBOZU',\n",
       " 'CDLMATCHINGLOW',\n",
       " 'CDLMATHOLD',\n",
       " 'CDLMORNINGDOJISTAR',\n",
       " 'CDLMORNINGSTAR',\n",
       " 'CDLONNECK',\n",
       " 'CDLPIERCING',\n",
       " 'CDLRICKSHAWMAN',\n",
       " 'CDLRISEFALL3METHODS',\n",
       " 'CDLSEPARATINGLINES',\n",
       " 'CDLSHOOTINGSTAR',\n",
       " 'CDLSHORTLINE',\n",
       " 'CDLSPINNINGTOP',\n",
       " 'CDLSTALLEDPATTERN',\n",
       " 'CDLSTICKSANDWICH',\n",
       " 'CDLTAKURI',\n",
       " 'CDLTASUKIGAP',\n",
       " 'CDLTHRUSTING',\n",
       " 'CDLTRISTAR',\n",
       " 'CDLUNIQUE3RIVER',\n",
       " 'CDLUPSIDEGAP2CROWS',\n",
       " 'CDLXSIDEGAP3METHODS',\n",
       " 'CEIL',\n",
       " 'CMO',\n",
       " 'CORREL',\n",
       " 'COS',\n",
       " 'COSH',\n",
       " 'DEMA',\n",
       " 'DIV',\n",
       " 'DX',\n",
       " 'EMA',\n",
       " 'EXP',\n",
       " 'FLOOR',\n",
       " 'HT_DCPERIOD',\n",
       " 'HT_DCPHASE',\n",
       " 'HT_PHASOR',\n",
       " 'HT_SINE',\n",
       " 'HT_TRENDLINE',\n",
       " 'HT_TRENDMODE',\n",
       " 'KAMA',\n",
       " 'LINEARREG',\n",
       " 'LINEARREG_ANGLE',\n",
       " 'LINEARREG_INTERCEPT',\n",
       " 'LINEARREG_SLOPE',\n",
       " 'LN',\n",
       " 'LOG10',\n",
       " 'MA',\n",
       " 'MACD',\n",
       " 'MACDEXT',\n",
       " 'MACDFIX',\n",
       " 'MAMA',\n",
       " 'MAVP',\n",
       " 'MAX',\n",
       " 'MAXINDEX',\n",
       " 'MA_Type',\n",
       " 'MEDPRICE',\n",
       " 'MFI',\n",
       " 'MIDPOINT',\n",
       " 'MIDPRICE',\n",
       " 'MIN',\n",
       " 'MININDEX',\n",
       " 'MINMAX',\n",
       " 'MINMAXINDEX',\n",
       " 'MINUS_DI',\n",
       " 'MINUS_DM',\n",
       " 'MOM',\n",
       " 'MULT',\n",
       " 'NATR',\n",
       " 'OBV',\n",
       " 'PLUS_DI',\n",
       " 'PLUS_DM',\n",
       " 'PPO',\n",
       " 'ROC',\n",
       " 'ROCP',\n",
       " 'ROCR',\n",
       " 'ROCR100',\n",
       " 'RSI',\n",
       " 'SAR',\n",
       " 'SAREXT',\n",
       " 'SIN',\n",
       " 'SINH',\n",
       " 'SMA',\n",
       " 'SQRT',\n",
       " 'STDDEV',\n",
       " 'STOCH',\n",
       " 'STOCHF',\n",
       " 'STOCHRSI',\n",
       " 'SUB',\n",
       " 'SUM',\n",
       " 'T3',\n",
       " 'TAN',\n",
       " 'TANH',\n",
       " 'TEMA',\n",
       " 'TRANGE',\n",
       " 'TRIMA',\n",
       " 'TRIX',\n",
       " 'TSF',\n",
       " 'TYPPRICE',\n",
       " 'ULTOSC',\n",
       " 'VAR',\n",
       " 'WCLPRICE',\n",
       " 'WILLR',\n",
       " 'WMA',\n",
       " '__all__',\n",
       " '__builtins__',\n",
       " '__cached__',\n",
       " '__doc__',\n",
       " '__file__',\n",
       " '__function_groups__',\n",
       " '__loader__',\n",
       " '__name__',\n",
       " '__package__',\n",
       " '__path__',\n",
       " '__spec__',\n",
       " '__ta_version__',\n",
       " '__version__',\n",
       " 'abstract',\n",
       " 'atexit',\n",
       " 'common',\n",
       " 'func',\n",
       " 'get_function_groups',\n",
       " 'get_functions',\n",
       " 'get_unstable_period',\n",
       " 'set_unstable_period']"
      ]
     },
     "execution_count": 2,
     "metadata": {},
     "output_type": "execute_result"
    }
   ],
   "source": [
    "dir(talib)"
   ]
  },
  {
   "cell_type": "markdown",
   "metadata": {},
   "source": [
    "1. 趋势指标：  \n",
    "MACD  \n",
    "SAR  \n",
    "MOM (MTM)  \n",
    "2. 反趋势指标：  \n",
    "RSI  \n",
    "3. 压力支撑指标：  \n",
    "BBANDS  \n",
    "3. 量价指标：  \n",
    "OBV\n",
    "5. 波动率指标：  \n",
    "VAR"
   ]
  },
  {
   "cell_type": "code",
   "execution_count": null,
   "metadata": {
    "collapsed": true
   },
   "outputs": [],
   "source": []
  }
 ],
 "metadata": {
  "kernelspec": {
   "display_name": "Python [Root]",
   "language": "python",
   "name": "Python [Root]"
  },
  "language_info": {
   "codemirror_mode": {
    "name": "ipython",
    "version": 3
   },
   "file_extension": ".py",
   "mimetype": "text/x-python",
   "name": "python",
   "nbconvert_exporter": "python",
   "pygments_lexer": "ipython3",
   "version": "3.5.2"
  }
 },
 "nbformat": 4,
 "nbformat_minor": 0
}
